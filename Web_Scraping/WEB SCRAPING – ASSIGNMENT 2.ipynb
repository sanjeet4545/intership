{
 "cells": [
  {
   "cell_type": "code",
   "execution_count": null,
   "id": "675b5ae1",
   "metadata": {},
   "outputs": [],
   "source": [
    "import selenium\n",
    "import pandas as pd\n",
    "from selenium import webdriver\n",
    "from selenium.webdriver.common.by import By\n",
    "import time\n",
    "\n",
    "import warnings\n",
    "warnings.filterwarnings('ignore')"
   ]
  },
  {
   "cell_type": "markdown",
   "id": "f35433b4",
   "metadata": {},
   "source": [
    "### Q1: Write a python program to scrape data for “Data Analyst” Job position in “Bangalore” location. You have to scrape the job-title, job-location, company_name, experience_required. You have to scrape first 10 jobs data.\n",
    "\n",
    "* This task will be done in following steps:\n",
    "\n",
    "1. First get the webpage https://www.shine.com/\n",
    "2. Enter “Data Analyst” in “Job title, Skills” field and enter “Bangalore” in “enter the location” field.\n",
    "3. Then click the searchbutton.\n",
    "4. Then scrape the data for the first 10 jobs results y\n"
   ]
  },
  {
   "cell_type": "code",
   "execution_count": null,
   "id": "d9ef338d",
   "metadata": {},
   "outputs": [],
   "source": [
    "driver = webdriver.Chrome()"
   ]
  },
  {
   "cell_type": "code",
   "execution_count": null,
   "id": "8f765ad4",
   "metadata": {},
   "outputs": [],
   "source": [
    "# Opening the shine page on automated chrome browser\n",
    "driver.get(\"https://www.shine.com/\")"
   ]
  },
  {
   "cell_type": "code",
   "execution_count": 5,
   "id": "66e986f6",
   "metadata": {},
   "outputs": [],
   "source": [
    "# Entering designation and location as required in the question - \n",
    "\n",
    "\n",
    "designation = driver.find_element(By.CLASS_NAME,\"form-control  \")\n",
    "designation.send_keys('Data Analyst')"
   ]
  },
  {
   "cell_type": "code",
   "execution_count": 6,
   "id": "170d08aa",
   "metadata": {},
   "outputs": [],
   "source": [
    "location = driver.find_element(By.CLASS_NAME,\"form-control  \")\n",
    "location.send_keys('Bangalore')"
   ]
  },
  {
   "cell_type": "code",
   "execution_count": 7,
   "id": "f1c00447",
   "metadata": {},
   "outputs": [],
   "source": [
    "search = driver.find_element(By.CLASS_NAME,\"searchForm_btnWrap_advance__VYBHN\")\n",
    "search.click()"
   ]
  },
  {
   "cell_type": "code",
   "execution_count": 8,
   "id": "42c3dc58",
   "metadata": {},
   "outputs": [],
   "source": [
    "Job_title = []\n",
    "Job_location = []\n",
    "Company_name = []\n",
    "Experience_required = []"
   ]
  },
  {
   "cell_type": "code",
   "execution_count": 9,
   "id": "cc238bd4",
   "metadata": {},
   "outputs": [],
   "source": [
    "# Scraping Job_title from the given page\n",
    "title_tags = driver.find_elements(By.XPATH,'//h2[@itemprop=\"name\"]')\n",
    "for i in title_tags[0:10]:\n",
    "    title = i.text\n",
    "    Job_title.append(title)\n",
    "    \n",
    "# Scraping Company_name from the given page\n",
    "company_tags = driver.find_elements(By.XPATH,'//div[@class=\"jobCard_jobCard_cName__mYnow\"]')\n",
    "for i in company_tags[0:10]:\n",
    "    company = i.text\n",
    "    Company_name.append(company)\n",
    "    \n",
    "# Scraping Experience_required from the given page\n",
    "experience_tags = driver.find_elements(By.XPATH,'//div[@class=\" jobCard_jobCard_lists_item__YxRkV jobCard_jobIcon__3FB1t\"]')\n",
    "for i in experience_tags[0:10]:\n",
    "    experience = i.text\n",
    "    Experience_required.append(experience)\n",
    "    \n",
    "# Scraping Job_location form the given page\n",
    "location_tags = driver.find_elements(By.XPATH,'//div[@class=\" jobCard_jobCard_lists_item__YxRkV jobCard_locationIcon__zrWt2\"]')\n",
    "for i in location_tags[0:10]:\n",
    "    location = i.text\n",
    "    Job_location.append(location.split('\\n')[0].replace('\\n',''))"
   ]
  },
  {
   "cell_type": "code",
   "execution_count": 10,
   "id": "212e438c",
   "metadata": {},
   "outputs": [
    {
     "name": "stdout",
     "output_type": "stream",
     "text": [
      "10 10 10 10\n"
     ]
    }
   ],
   "source": [
    "print(len(Job_title),len(Company_name),len(Experience_required),len(Job_location))"
   ]
  },
  {
   "cell_type": "code",
   "execution_count": 11,
   "id": "b0500750",
   "metadata": {},
   "outputs": [
    {
     "data": {
      "text/html": [
       "<div>\n",
       "<style scoped>\n",
       "    .dataframe tbody tr th:only-of-type {\n",
       "        vertical-align: middle;\n",
       "    }\n",
       "\n",
       "    .dataframe tbody tr th {\n",
       "        vertical-align: top;\n",
       "    }\n",
       "\n",
       "    .dataframe thead th {\n",
       "        text-align: right;\n",
       "    }\n",
       "</style>\n",
       "<table border=\"1\" class=\"dataframe\">\n",
       "  <thead>\n",
       "    <tr style=\"text-align: right;\">\n",
       "      <th></th>\n",
       "      <th>Title</th>\n",
       "      <th>Company name</th>\n",
       "      <th>Experience</th>\n",
       "      <th>Location</th>\n",
       "    </tr>\n",
       "  </thead>\n",
       "  <tbody>\n",
       "    <tr>\n",
       "      <th>0</th>\n",
       "      <td>Data Engineer II, Amazon WFM Tech Enterprise Data</td>\n",
       "      <td>amazon</td>\n",
       "      <td>3 to 5 Yrs</td>\n",
       "      <td>Bangalore</td>\n",
       "    </tr>\n",
       "    <tr>\n",
       "      <th>1</th>\n",
       "      <td>Opening for senior accountant dubai</td>\n",
       "      <td>always international manpower servi...</td>\n",
       "      <td>1 to 5 Yrs</td>\n",
       "      <td>Vizianagaram</td>\n",
       "    </tr>\n",
       "    <tr>\n",
       "      <th>2</th>\n",
       "      <td>Opening for senior accountant dubai</td>\n",
       "      <td>always international manpower servi...</td>\n",
       "      <td>1 to 5 Yrs</td>\n",
       "      <td>Anantpur</td>\n",
       "    </tr>\n",
       "    <tr>\n",
       "      <th>3</th>\n",
       "      <td>Opening for senior accountant dubai</td>\n",
       "      <td>always international manpower servi...</td>\n",
       "      <td>1 to 5 Yrs</td>\n",
       "      <td>Ramgarh</td>\n",
       "    </tr>\n",
       "    <tr>\n",
       "      <th>4</th>\n",
       "      <td>Hiring CA,CA Inter, CAM Candidates - Accountin...</td>\n",
       "      <td>always international manpower servi...</td>\n",
       "      <td>1 to 5 Yrs</td>\n",
       "      <td>Surat</td>\n",
       "    </tr>\n",
       "    <tr>\n",
       "      <th>5</th>\n",
       "      <td>Warehouse Supervisor Accountants in Dubai</td>\n",
       "      <td>always international manpower servi...</td>\n",
       "      <td>1 to 5 Yrs</td>\n",
       "      <td>Bangalore</td>\n",
       "    </tr>\n",
       "    <tr>\n",
       "      <th>6</th>\n",
       "      <td>Data Entry Senior Representative</td>\n",
       "      <td>v-tech data outsourcing</td>\n",
       "      <td>0 to 2 Yrs</td>\n",
       "      <td>Denmark</td>\n",
       "    </tr>\n",
       "    <tr>\n",
       "      <th>7</th>\n",
       "      <td>Immediate opening for Data entry operator work...</td>\n",
       "      <td>v-tech data outsourcing</td>\n",
       "      <td>0 to 2 Yrs</td>\n",
       "      <td>Gandhinagar</td>\n",
       "    </tr>\n",
       "    <tr>\n",
       "      <th>8</th>\n",
       "      <td>Data Entry Clerk</td>\n",
       "      <td>v-tech data outsourcing</td>\n",
       "      <td>0 to 2 Yrs</td>\n",
       "      <td>Denmark</td>\n",
       "    </tr>\n",
       "    <tr>\n",
       "      <th>9</th>\n",
       "      <td>Data Outsourcing</td>\n",
       "      <td>v-tech data outsourcing</td>\n",
       "      <td>0 to 2 Yrs</td>\n",
       "      <td>Denmark</td>\n",
       "    </tr>\n",
       "  </tbody>\n",
       "</table>\n",
       "</div>"
      ],
      "text/plain": [
       "                                               Title  \\\n",
       "0  Data Engineer II, Amazon WFM Tech Enterprise Data   \n",
       "1                Opening for senior accountant dubai   \n",
       "2                Opening for senior accountant dubai   \n",
       "3                Opening for senior accountant dubai   \n",
       "4  Hiring CA,CA Inter, CAM Candidates - Accountin...   \n",
       "5          Warehouse Supervisor Accountants in Dubai   \n",
       "6                   Data Entry Senior Representative   \n",
       "7  Immediate opening for Data entry operator work...   \n",
       "8                                   Data Entry Clerk   \n",
       "9                                   Data Outsourcing   \n",
       "\n",
       "                             Company name  Experience      Location  \n",
       "0                                  amazon  3 to 5 Yrs     Bangalore  \n",
       "1  always international manpower servi...  1 to 5 Yrs  Vizianagaram  \n",
       "2  always international manpower servi...  1 to 5 Yrs      Anantpur  \n",
       "3  always international manpower servi...  1 to 5 Yrs       Ramgarh  \n",
       "4  always international manpower servi...  1 to 5 Yrs         Surat  \n",
       "5  always international manpower servi...  1 to 5 Yrs     Bangalore  \n",
       "6                 v-tech data outsourcing  0 to 2 Yrs       Denmark  \n",
       "7                 v-tech data outsourcing  0 to 2 Yrs   Gandhinagar  \n",
       "8                 v-tech data outsourcing  0 to 2 Yrs       Denmark  \n",
       "9                 v-tech data outsourcing  0 to 2 Yrs       Denmark  "
      ]
     },
     "execution_count": 11,
     "metadata": {},
     "output_type": "execute_result"
    }
   ],
   "source": [
    "df = pd.DataFrame({'Title':Job_title,'Company name':Company_name,'Experience':Experience_required,'Location':Job_location})\n",
    "\n",
    "df"
   ]
  },
  {
   "cell_type": "code",
   "execution_count": null,
   "id": "4393ff8f",
   "metadata": {},
   "outputs": [],
   "source": []
  },
  {
   "cell_type": "code",
   "execution_count": null,
   "id": "5dae4de5",
   "metadata": {},
   "outputs": [],
   "source": []
  },
  {
   "cell_type": "markdown",
   "id": "382ee35d",
   "metadata": {},
   "source": [
    "### Q2:Write a python program to scrape data for “Data Scientist” Job position in“Bangalore” location. You have to scrape the job-title, job-location, company_name. You have to scrape first 10 jobs data.\n",
    "\n",
    "* This task will be done in following steps:\n",
    "1. First get the webpage https://www.shine.com/\n",
    "2. Enter “Data Scientist” in “Job title, Skills” field and enter “Bangalore” in “enter thelocation” field.\n",
    "3. Then click the search button.\n",
    "4. Then scrape the data for the first 10 jobs results you get.\n",
    "5. Finally create a dataframe of the scraped data."
   ]
  },
  {
   "cell_type": "code",
   "execution_count": 12,
   "id": "22501d3f",
   "metadata": {},
   "outputs": [],
   "source": [
    "driver = webdriver.Chrome()"
   ]
  },
  {
   "cell_type": "code",
   "execution_count": 13,
   "id": "7748f724",
   "metadata": {},
   "outputs": [],
   "source": [
    "# Operning the shone page automaticed chrome browser\n",
    "driver.get('https://www.shine.com/')"
   ]
  },
  {
   "cell_type": "code",
   "execution_count": 14,
   "id": "835d7a0e",
   "metadata": {
    "scrolled": true
   },
   "outputs": [],
   "source": [
    "# Entering designation and location as required in the question - \n",
    "designation = driver.find_element(By.CLASS_NAME,\"form-control  \")\n",
    "designation.send_keys('Data Scientist')"
   ]
  },
  {
   "cell_type": "code",
   "execution_count": 15,
   "id": "24d9df2a",
   "metadata": {},
   "outputs": [],
   "source": [
    "location = driver.find_element(By.CLASS_NAME,\"form-control  \")\n",
    "location.send_keys('Bangalore')"
   ]
  },
  {
   "cell_type": "code",
   "execution_count": 16,
   "id": "e48a8acc",
   "metadata": {},
   "outputs": [],
   "source": [
    "search = driver.find_element(By.CLASS_NAME,\"searchForm_btnWrap_advance__VYBHN\")\n",
    "search.click()"
   ]
  },
  {
   "cell_type": "code",
   "execution_count": 17,
   "id": "501d827d",
   "metadata": {},
   "outputs": [],
   "source": [
    "Job_title = []\n",
    "Company_name = []\n",
    "Experience_required = []\n",
    "Job_location = []"
   ]
  },
  {
   "cell_type": "code",
   "execution_count": 18,
   "id": "962f6ea1",
   "metadata": {},
   "outputs": [],
   "source": [
    "# Scraping Job_title form the given page\n",
    "title_tags = driver.find_elements(By.XPATH,'//h2[@itemprop=\"name\"]')\n",
    "for i in title_tags[0:10]:\n",
    "    title = i.text\n",
    "    Job_title.append(title)\n",
    "    \n",
    "# Scraping Company_name from the given page\n",
    "company_tags = driver.find_elements(By.XPATH,'//div[@class=\"jobCard_jobCard_cName__mYnow\"]')\n",
    "for i in company_tags[0:10]:\n",
    "    company = i.text\n",
    "    Company_name.append(company)\n",
    "    \n",
    "# Scraping Experience_required form the given page\n",
    "experience_tags = driver.find_elements(By.XPATH,'//div[@class=\" jobCard_jobCard_lists_item__YxRkV jobCard_jobIcon__3FB1t\"]')\n",
    "for i in experience_tags[0:10]:\n",
    "    experience = i.text\n",
    "    Experience_required.append(experience)\n",
    "    \n",
    "# Scraping Job_location from the given page\n",
    "locaton_tags = driver.find_elements(By.XPATH,'//div[@class=\" jobCard_jobCard_lists_item__YxRkV jobCard_locationIcon__zrWt2\"]')\n",
    "for i in locaton_tags[0:10]:\n",
    "    location = i.text\n",
    "    Job_location.append(location.split('\\n')[0].replace('\\n',''))"
   ]
  },
  {
   "cell_type": "code",
   "execution_count": 19,
   "id": "97315f2b",
   "metadata": {},
   "outputs": [
    {
     "name": "stdout",
     "output_type": "stream",
     "text": [
      "10 10 10 10\n"
     ]
    }
   ],
   "source": [
    "print(len(Job_title),len(Company_name),len(Experience_required),len(Job_location))"
   ]
  },
  {
   "cell_type": "code",
   "execution_count": 20,
   "id": "036e1dfa",
   "metadata": {
    "scrolled": true
   },
   "outputs": [
    {
     "data": {
      "text/html": [
       "<div>\n",
       "<style scoped>\n",
       "    .dataframe tbody tr th:only-of-type {\n",
       "        vertical-align: middle;\n",
       "    }\n",
       "\n",
       "    .dataframe tbody tr th {\n",
       "        vertical-align: top;\n",
       "    }\n",
       "\n",
       "    .dataframe thead th {\n",
       "        text-align: right;\n",
       "    }\n",
       "</style>\n",
       "<table border=\"1\" class=\"dataframe\">\n",
       "  <thead>\n",
       "    <tr style=\"text-align: right;\">\n",
       "      <th></th>\n",
       "      <th>Title</th>\n",
       "      <th>Company name</th>\n",
       "      <th>Experience</th>\n",
       "      <th>Location</th>\n",
       "    </tr>\n",
       "  </thead>\n",
       "  <tbody>\n",
       "    <tr>\n",
       "      <th>0</th>\n",
       "      <td>Data Engineer II, Amazon WFM Tech Enterprise Data</td>\n",
       "      <td>amazon</td>\n",
       "      <td>3 to 5 Yrs</td>\n",
       "      <td>Bangalore</td>\n",
       "    </tr>\n",
       "    <tr>\n",
       "      <th>1</th>\n",
       "      <td>Opening for senior accountant dubai</td>\n",
       "      <td>always international manpower servi...</td>\n",
       "      <td>1 to 5 Yrs</td>\n",
       "      <td>Vizianagaram</td>\n",
       "    </tr>\n",
       "    <tr>\n",
       "      <th>2</th>\n",
       "      <td>Opening for senior accountant dubai</td>\n",
       "      <td>always international manpower servi...</td>\n",
       "      <td>1 to 5 Yrs</td>\n",
       "      <td>Anantpur</td>\n",
       "    </tr>\n",
       "    <tr>\n",
       "      <th>3</th>\n",
       "      <td>Opening for senior accountant dubai</td>\n",
       "      <td>always international manpower servi...</td>\n",
       "      <td>1 to 5 Yrs</td>\n",
       "      <td>Ramgarh</td>\n",
       "    </tr>\n",
       "    <tr>\n",
       "      <th>4</th>\n",
       "      <td>Hiring CA,CA Inter, CAM Candidates - Accountin...</td>\n",
       "      <td>always international manpower servi...</td>\n",
       "      <td>1 to 5 Yrs</td>\n",
       "      <td>Surat</td>\n",
       "    </tr>\n",
       "    <tr>\n",
       "      <th>5</th>\n",
       "      <td>Warehouse Supervisor Accountants in Dubai</td>\n",
       "      <td>always international manpower servi...</td>\n",
       "      <td>1 to 5 Yrs</td>\n",
       "      <td>Bangalore</td>\n",
       "    </tr>\n",
       "    <tr>\n",
       "      <th>6</th>\n",
       "      <td>Data Entry Senior Representative</td>\n",
       "      <td>v-tech data outsourcing</td>\n",
       "      <td>0 to 2 Yrs</td>\n",
       "      <td>Denmark</td>\n",
       "    </tr>\n",
       "    <tr>\n",
       "      <th>7</th>\n",
       "      <td>Immediate opening for Data entry operator work...</td>\n",
       "      <td>v-tech data outsourcing</td>\n",
       "      <td>0 to 2 Yrs</td>\n",
       "      <td>Gandhinagar</td>\n",
       "    </tr>\n",
       "    <tr>\n",
       "      <th>8</th>\n",
       "      <td>Data Entry Clerk</td>\n",
       "      <td>v-tech data outsourcing</td>\n",
       "      <td>0 to 2 Yrs</td>\n",
       "      <td>Denmark</td>\n",
       "    </tr>\n",
       "    <tr>\n",
       "      <th>9</th>\n",
       "      <td>Data Outsourcing</td>\n",
       "      <td>v-tech data outsourcing</td>\n",
       "      <td>0 to 2 Yrs</td>\n",
       "      <td>Denmark</td>\n",
       "    </tr>\n",
       "  </tbody>\n",
       "</table>\n",
       "</div>"
      ],
      "text/plain": [
       "                                               Title  \\\n",
       "0  Data Engineer II, Amazon WFM Tech Enterprise Data   \n",
       "1                Opening for senior accountant dubai   \n",
       "2                Opening for senior accountant dubai   \n",
       "3                Opening for senior accountant dubai   \n",
       "4  Hiring CA,CA Inter, CAM Candidates - Accountin...   \n",
       "5          Warehouse Supervisor Accountants in Dubai   \n",
       "6                   Data Entry Senior Representative   \n",
       "7  Immediate opening for Data entry operator work...   \n",
       "8                                   Data Entry Clerk   \n",
       "9                                   Data Outsourcing   \n",
       "\n",
       "                             Company name  Experience      Location  \n",
       "0                                  amazon  3 to 5 Yrs     Bangalore  \n",
       "1  always international manpower servi...  1 to 5 Yrs  Vizianagaram  \n",
       "2  always international manpower servi...  1 to 5 Yrs      Anantpur  \n",
       "3  always international manpower servi...  1 to 5 Yrs       Ramgarh  \n",
       "4  always international manpower servi...  1 to 5 Yrs         Surat  \n",
       "5  always international manpower servi...  1 to 5 Yrs     Bangalore  \n",
       "6                 v-tech data outsourcing  0 to 2 Yrs       Denmark  \n",
       "7                 v-tech data outsourcing  0 to 2 Yrs   Gandhinagar  \n",
       "8                 v-tech data outsourcing  0 to 2 Yrs       Denmark  \n",
       "9                 v-tech data outsourcing  0 to 2 Yrs       Denmark  "
      ]
     },
     "execution_count": 20,
     "metadata": {},
     "output_type": "execute_result"
    }
   ],
   "source": [
    "df = pd.DataFrame({'Title':Job_title,'Company name':Company_name,'Experience':Experience_required,'Location':Job_location})\n",
    "\n",
    "df"
   ]
  }
 ],
 "metadata": {
  "kernelspec": {
   "display_name": "Python 3 (ipykernel)",
   "language": "python",
   "name": "python3"
  },
  "language_info": {
   "codemirror_mode": {
    "name": "ipython",
    "version": 3
   },
   "file_extension": ".py",
   "mimetype": "text/x-python",
   "name": "python",
   "nbconvert_exporter": "python",
   "pygments_lexer": "ipython3",
   "version": "3.9.13"
  }
 },
 "nbformat": 4,
 "nbformat_minor": 5
}
